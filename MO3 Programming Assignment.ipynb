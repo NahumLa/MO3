{
 "cells": [
  {
   "cell_type": "code",
   "execution_count": 22,
   "id": "b28ad995",
   "metadata": {},
   "outputs": [],
   "source": [
    "things = [\"mozarella\", \"cinderella\", \"salmonella\"]"
   ]
  },
  {
   "cell_type": "code",
   "execution_count": 23,
   "id": "d603d0f1",
   "metadata": {},
   "outputs": [],
   "source": [
    "person_cap = things[1].capitalize()"
   ]
  },
  {
   "cell_type": "code",
   "execution_count": 24,
   "id": "bc6b4d5b",
   "metadata": {},
   "outputs": [
    {
     "name": "stdout",
     "output_type": "stream",
     "text": [
      "['mozarella', 'cinderella', 'salmonella']\n"
     ]
    }
   ],
   "source": [
    "print(things)"
   ]
  },
  {
   "cell_type": "code",
   "execution_count": 25,
   "id": "4d3d5b0e",
   "metadata": {},
   "outputs": [],
   "source": [
    "#Assuming I wrote the code correctly, it did not change the element in the list/capitalize cinderella."
   ]
  },
  {
   "cell_type": "code",
   "execution_count": 29,
   "id": "c90d667b",
   "metadata": {},
   "outputs": [
    {
     "name": "stdout",
     "output_type": "stream",
     "text": [
      "['mozarella', 'cinderella', 'salmonella']\n"
     ]
    }
   ],
   "source": [
    "upperCase = things[0].upper()\n",
    "print(things)"
   ]
  },
  {
   "cell_type": "code",
   "execution_count": 30,
   "id": "d508f47a",
   "metadata": {},
   "outputs": [
    {
     "name": "stdout",
     "output_type": "stream",
     "text": [
      "['mozarella', 'cinderella']\n"
     ]
    }
   ],
   "source": [
    "things.remove(\"salmonella\")\n",
    "print(things)"
   ]
  },
  {
   "cell_type": "code",
   "execution_count": 44,
   "id": "7f0ccebe",
   "metadata": {},
   "outputs": [
    {
     "data": {
      "text/plain": [
       "['harry', 'hermoine', 'ron']"
      ]
     },
     "execution_count": 44,
     "metadata": {},
     "output_type": "execute_result"
    }
   ],
   "source": [
    "def good():\n",
    "    good_guys = [\"harry\", \"hermoine\", \"ron\"]\n",
    "    return good_guys\n",
    "good()"
   ]
  },
  {
   "cell_type": "code",
   "execution_count": 42,
   "id": "9c844d37",
   "metadata": {},
   "outputs": [],
   "source": [
    "def get_odds():\n",
    "    for num in range(0,10):\n",
    "        if(num % 2 != 0):\n",
    "            print(num)"
   ]
  },
  {
   "cell_type": "code",
   "execution_count": 43,
   "id": "a2a50afc",
   "metadata": {},
   "outputs": [
    {
     "name": "stdout",
     "output_type": "stream",
     "text": [
      "1\n",
      "3\n",
      "5\n",
      "7\n",
      "9\n"
     ]
    }
   ],
   "source": [
    "get_odds()"
   ]
  }
 ],
 "metadata": {
  "kernelspec": {
   "display_name": "Python 3 (ipykernel)",
   "language": "python",
   "name": "python3"
  },
  "language_info": {
   "codemirror_mode": {
    "name": "ipython",
    "version": 3
   },
   "file_extension": ".py",
   "mimetype": "text/x-python",
   "name": "python",
   "nbconvert_exporter": "python",
   "pygments_lexer": "ipython3",
   "version": "3.9.12"
  }
 },
 "nbformat": 4,
 "nbformat_minor": 5
}
